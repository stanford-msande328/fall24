{
 "cells": [
  {
   "cell_type": "code",
   "execution_count": 208,
   "id": "e141c3e2",
   "metadata": {},
   "outputs": [],
   "source": [
    "import numpy as np\n",
    "import scipy\n",
    "\n",
    "def gen_instance(n, latent_dist, random_seed=123):\n",
    "    \"\"\" Generate an SCM instance.\n",
    "    \"\"\"\n",
    "    np.random.seed(random_seed)\n",
    "\n",
    "    A = np.random.uniform(.2, 1, size=(n,n))\n",
    "    A = np.tril(A, k=-1)\n",
    "\n",
    "    perm = np.arange(n)\n",
    "    np.random.shuffle(perm)\n",
    "    invperm = np.argsort(perm)\n",
    "    \n",
    "    # Some quantities used for debugging. These relate to the quantities\n",
    "    # that ICA should be recovering (e.g. the orthogonal un-mixing matrix).\n",
    "    U = latent_dist(100000, 1)\n",
    "    k40 = np.ones(n) * ((np.mean(U**4) / np.mean(U**2)**2) - 3)\n",
    "    VU = np.diag(np.ones(n) * np.var(U))\n",
    "    \n",
    "    W0 = np.linalg.inv((np.eye(n) - A)[:, perm])\n",
    "    W0 = W0 @ (VU**(1/2))\n",
    "    U, s, V = scipy.linalg.svd(W0, full_matrices=False)\n",
    "    V0sqrtinv = U @ (U/s).T\n",
    "    M0 = V0sqrtinv @ W0 # This is the orthogonal matrix in the decorrelated ICA: x=Mz\n",
    "\n",
    "    return A, perm, invperm, M0, k40, VU"
   ]
  },
  {
   "cell_type": "code",
   "execution_count": 209,
   "id": "e87b0032",
   "metadata": {},
   "outputs": [],
   "source": [
    "def gen_data(A, N, latent_dist, perm, random_seed=123):\n",
    "    \"\"\" Generate data from the linear SCM\n",
    "    \"\"\"\n",
    "    np.random.seed(random_seed)\n",
    "    n = A.shape[1]\n",
    "    U = latent_dist(N, n)\n",
    "    X = U @ np.linalg.pinv(np.eye(n) - A).T\n",
    "    return X[:, perm]"
   ]
  },
  {
   "cell_type": "code",
   "execution_count": 210,
   "id": "eeec1802",
   "metadata": {},
   "outputs": [],
   "source": [
    "import matplotlib.pyplot as plt\n",
    "\n",
    "def fast_ica(X, *, M0=None, k40=None, whiten='svd', n_iters=10):\n",
    "    \"\"\" Implementation of Fast ICA based on Kurtosis\n",
    "    \"\"\"\n",
    "    N, n = X.shape\n",
    "\n",
    "    # PCA Step: de-correlate and normalize the data\n",
    "    if whiten == 'eigh':\n",
    "        V = X.T @ X / N\n",
    "        D, U = scipy.linalg.eigh(V)\n",
    "        Vsqrt = (U * np.sqrt(np.clip(D, 0, np.inf))) @ U.T\n",
    "        Vsqrtinv = np.linalg.inv(Vsqrt)\n",
    "    else:\n",
    "        U, s, V = scipy.linalg.svd(X.T, full_matrices=False)\n",
    "        Vsqrtinv = U @ (U/s).T * np.sqrt(X.shape[0])\n",
    "    X = X @ Vsqrtinv.T\n",
    "\n",
    "    # Initialize transformation matrix and orthogonal projection\n",
    "    W = np.zeros((n, n))\n",
    "    P = np.eye(n)\n",
    "    XP = X @ P\n",
    "    for d in range(n):\n",
    "        w = np.random.normal(0, 1, size=n) # draw a random initial vector\n",
    "        w = P @ w # project out directions already discovered\n",
    "        w /= np.linalg.norm(w, ord=2) # normalize vector to unit norm\n",
    "        if M0 is not None: # for debugging: look at vector in the \"coefficient space\"\n",
    "            b = np.abs(M0.T @ w) * np.sqrt(np.abs(k40)) \n",
    "            i = np.argmax(b) # algorithm should be converging to this true column\n",
    "            print(b, i)\n",
    "            plt.scatter(np.arange(n), b)\n",
    "            plt.show()\n",
    "        for t in range(n_iters):\n",
    "            w = XP.T @ (XP @ w)**3 / N - 3 * w # gradient update rule\n",
    "            w = P @ w # project out already discovered directions\n",
    "            w /= np.linalg.norm(w, ord=2) # normalize to unit norm\n",
    "            if M0 is not None: # for debugging: look at vector in the \"coefficient space\"\n",
    "                b = np.abs(M0.T @ w) * np.sqrt(np.abs(k40))\n",
    "        if M0 is not None: # for debugging\n",
    "            print(np.abs(M0.T @ w))\n",
    "            plt.scatter(np.arange(n), np.abs(M0.T @ w))\n",
    "            plt.show()\n",
    "        W[d, :] = w # store vector found\n",
    "        P -= w.reshape(-1, 1) @ w.reshape(1, -1) # update the orthogonal projection operator\n",
    "        XP = XP @ P # remove this direction from the data\n",
    "\n",
    "    return W @ Vsqrtinv # return transform with respect to pre-decorrelated data"
   ]
  },
  {
   "cell_type": "code",
   "execution_count": 212,
   "id": "f4dc5b89",
   "metadata": {},
   "outputs": [],
   "source": [
    "import networkx as nx\n",
    "\n",
    "def align_matrix(W):\n",
    "    \"\"\" Find the row permutation such that all diagonal entries are non-zero.\n",
    "    This aligns the matrix W such that it corresponds to the permuted lower\n",
    "    triangular entry where the same permutation has been applied to rows and\n",
    "    columns\n",
    "    \"\"\"\n",
    "    n = W.shape[1]\n",
    "    values = np.sort(np.abs(W).flatten())\n",
    "    thr = values[(n * (n - 1) // 2) - 1]\n",
    "\n",
    "    G = nx.Graph()\n",
    "    edges = []\n",
    "    for i in range(n):\n",
    "        for j in range(n):\n",
    "            edges += [(i, n + j, {'weight': (np.abs(W[i, j]) > thr)})]\n",
    "\n",
    "    G.add_edges_from(edges)\n",
    "    # we sort the edges based on which right node j they map to\n",
    "    matching = nx.max_weight_matching(G, maxcardinality=True)\n",
    "    matching = sorted([sorted(e, reverse=True) for e in matching])\n",
    "    # now we find which element goes to each slot in increasing order of slots\n",
    "    best = [e[1] for e in matching]\n",
    "    return W[best]"
   ]
  },
  {
   "cell_type": "code",
   "execution_count": 213,
   "id": "bc86951a",
   "metadata": {},
   "outputs": [],
   "source": [
    "import itertools\n",
    "\n",
    "def attempt_lower_tri(B):\n",
    "    \"\"\" Attempts to find a way to re-arrange B to a lower triangular\n",
    "    matrix via symmetric row and column permutations.\n",
    "    \"\"\"\n",
    "    n = B.shape[0]\n",
    "    perm = []\n",
    "    for i in range(n):\n",
    "        success = False\n",
    "        for j in range(n):\n",
    "            if j in perm:\n",
    "                continue\n",
    "            if np.sum(np.delete(B[j], perm)) == 0:\n",
    "                success = True\n",
    "                perm += [j]\n",
    "                break\n",
    "        if not success:\n",
    "            return False\n",
    "    return perm\n",
    "\n",
    "def get_lower_tri_perm(W):\n",
    "    \"\"\" Finds the permutation that can be applied to rows and columns\n",
    "    such that the matrix is approximately lower triangular. It clips\n",
    "    progressively more and more small entries and then applies the previous\n",
    "    procedure to find an exact lower triangular\n",
    "    \"\"\"\n",
    "    n = W.shape[0]\n",
    "    B = W.copy()\n",
    "    np.fill_diagonal(B, 0)\n",
    "\n",
    "    values = np.sort(np.abs(B).flatten())\n",
    "    thr_ind = (n * (n + 1) // 2) - 1\n",
    "    B = B * (np.abs(B) > values[thr_ind])\n",
    "\n",
    "    success = False\n",
    "    while not success:\n",
    "        perm = attempt_lower_tri(B)\n",
    "        if perm == False:\n",
    "            thr_ind += 1\n",
    "            B = B * (np.abs(B) > values[thr_ind])\n",
    "        else:\n",
    "            success = True\n",
    "    \n",
    "    return perm\n",
    "\n",
    "def get_lower_tri_perm_lowdim(W):\n",
    "    \"\"\" For small number of variables we can just go over all possible\n",
    "    permutations and find the one that has the smallest mass on the upper\n",
    "    triangle part.\n",
    "    \"\"\"\n",
    "    n = W.shape[0]\n",
    "    best = (np.inf, None)\n",
    "    for P in itertools.permutations(np.arange(n)):\n",
    "        Wp = W[list(P)][:, list(P)]\n",
    "        value = np.linalg.norm(np.triu(Wp, k=1).flatten(), ord=1)\n",
    "        if value < best[0]:\n",
    "            best = (value, P)\n",
    "    return list(best[1])"
   ]
  },
  {
   "cell_type": "code",
   "execution_count": 214,
   "id": "9ffdd253",
   "metadata": {},
   "outputs": [],
   "source": [
    "from sklearn.decomposition import FastICA\n",
    "\n",
    "def lingam(X, *, M0=None, k40=None, whiten='svd', n_iters=10):\n",
    "    \"\"\" Implementation of the full LinGAM algorithm.\n",
    "    \"\"\"\n",
    "    n = X.shape[1]\n",
    "\n",
    "    W = fast_ica(X, M0=M0, k40=k40, whiten=whiten, n_iters=n_iters)\n",
    "    # W = FastICA(whiten='unit-variance', max_iter=200, random_state=1543).fit(X).components_\n",
    "\n",
    "    W = align_matrix(W)\n",
    "\n",
    "    if n <= 5:\n",
    "        best = get_lower_tri_perm_lowdim(W)\n",
    "    else:\n",
    "        best = get_lower_tri_perm(W)\n",
    "\n",
    "    return best, W[best][:, best]"
   ]
  },
  {
   "cell_type": "code",
   "execution_count": 232,
   "id": "7c904909",
   "metadata": {},
   "outputs": [],
   "source": [
    "latent_dist = lambda N, n: np.random.uniform(-.1, .1, size=(N, n))\n",
    "A, perm, invperm, M0, k40, VU0 = gen_instance(5, latent_dist)\n",
    "\n",
    "X = gen_data(A, 2000, latent_dist, perm, random_seed=23423)\n",
    "\n",
    "best, W = lingam(X, n_iters=100)"
   ]
  },
  {
   "cell_type": "code",
   "execution_count": 233,
   "id": "34137ad2",
   "metadata": {},
   "outputs": [
    {
     "data": {
      "text/plain": [
       "array([1, 4, 2, 0, 3])"
      ]
     },
     "execution_count": 233,
     "metadata": {},
     "output_type": "execute_result"
    }
   ],
   "source": [
    "np.array(best) # discovered causal order"
   ]
  },
  {
   "cell_type": "code",
   "execution_count": 234,
   "id": "266f612b",
   "metadata": {},
   "outputs": [
    {
     "data": {
      "text/plain": [
       "array([1, 4, 2, 0, 3], dtype=int64)"
      ]
     },
     "execution_count": 234,
     "metadata": {},
     "output_type": "execute_result"
    }
   ],
   "source": [
    "invperm # true causal order"
   ]
  },
  {
   "cell_type": "code",
   "execution_count": 235,
   "id": "3751a3b8",
   "metadata": {},
   "outputs": [
    {
     "data": {
      "text/plain": [
       "True"
      ]
     },
     "execution_count": 235,
     "metadata": {},
     "output_type": "execute_result"
    }
   ],
   "source": [
    "np.all(best == invperm) # test that we recovered the true causal order"
   ]
  },
  {
   "cell_type": "code",
   "execution_count": null,
   "id": "a1269873",
   "metadata": {},
   "outputs": [],
   "source": []
  }
 ],
 "metadata": {
  "kernelspec": {
   "display_name": "Python 3 (ipykernel)",
   "language": "python",
   "name": "python3"
  },
  "language_info": {
   "codemirror_mode": {
    "name": "ipython",
    "version": 3
   },
   "file_extension": ".py",
   "mimetype": "text/x-python",
   "name": "python",
   "nbconvert_exporter": "python",
   "pygments_lexer": "ipython3",
   "version": "3.10.9"
  }
 },
 "nbformat": 4,
 "nbformat_minor": 5
}
